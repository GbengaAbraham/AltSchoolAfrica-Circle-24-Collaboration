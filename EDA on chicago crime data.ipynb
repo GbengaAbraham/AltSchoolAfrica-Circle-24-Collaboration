{
 "cells": [
  {
   "cell_type": "markdown",
   "id": "547ae1a6",
   "metadata": {},
   "source": [
    "_LEARNING-CIRCLE-24 PROJECT_"
   ]
  },
  {
   "cell_type": "markdown",
   "id": "0dad4ee9",
   "metadata": {},
   "source": [
    "<h2> Learning-Circle-24 </h2> <p>  Contributors </p>\n",
    "\n"
   ]
  },
  {
   "cell_type": "markdown",
   "id": "ad32ee5f",
   "metadata": {},
   "source": [
    "Analyzing the Chicago crime dataset involves examining various aspects of the data to understand patterns, trends, and characteristics of criminal activities in Chicago. We perform analysis using Python, pandas and visualization libraries using the following steps:\n",
    "\n",
    "1. Load the Dataset: Load the Chicago crime dataset into a DataFrame.\n",
    "2. Explore the Dataset: Examine the structure, columns, and basic statistics of the dataset.\n",
    "3. Data Cleaning: We dropped redundant columns and handle missing values.\n",
    "4. Visualize Data Distribution: Visualize the distribution of variables using histograms, box plots, or density plots.\n",
    "5. Identify Outliers: Detect and handle outliers that may affect the analysis.\n",
    "6. Investigate Relationships: Look for relationships between variables using scatter plots, correlation matrices, or pair plots\n",
    "7. Investigate Crime Types: Analyze the distribution of different types of crimes.\n",
    "8. Examine Crime Locations: Investigate the distribution of crimes across different locations.\n",
    "9. Identify Hotspots: Identify areas with high crime rates.\n",
    "10. Detect Seasonal Patterns: Look for seasonal patterns or variations in crime rates.\n",
    "11. Compare Crime Rates: Compare crime rates across different categories such as day of the week, time of day, and month.\n",
    "12. Summarize and Visualize Insights: Summarize and Visualize the key insights and findings from the analysis using plots and charts."
   ]
  },
  {
   "cell_type": "code",
   "execution_count": 1,
   "id": "9a24d3c5",
   "metadata": {
    "ExecuteTime": {
     "end_time": "2024-03-03T06:32:47.332387Z",
     "start_time": "2024-03-03T06:32:36.564417Z"
    }
   },
   "outputs": [],
   "source": [
    "import pandas as pd"
   ]
  },
  {
   "cell_type": "code",
   "execution_count": 2,
   "id": "e33a0ba2",
   "metadata": {
    "ExecuteTime": {
     "end_time": "2024-03-03T06:32:47.370344Z",
     "start_time": "2024-03-03T06:32:47.348018Z"
    }
   },
   "outputs": [],
   "source": [
    "# Set display option \n",
    "pd.set_option('display.max.columns', None)"
   ]
  },
  {
   "cell_type": "markdown",
   "id": "282ac4ea",
   "metadata": {
    "ExecuteTime": {
     "end_time": "2024-03-02T06:10:29.749123Z",
     "start_time": "2024-03-02T06:10:29.698866Z"
    }
   },
   "source": [
    "# 1. Loading the dataset"
   ]
  },
  {
   "cell_type": "code",
   "execution_count": 3,
   "id": "baad012f",
   "metadata": {
    "ExecuteTime": {
     "end_time": "2024-03-03T06:32:47.795396Z",
     "start_time": "2024-03-03T06:32:47.383488Z"
    }
   },
   "outputs": [],
   "source": [
    "# Load the dataset\n",
    "chicago_crime_df= pd.read_csv('datasets/chicago1.csv')"
   ]
  },
  {
   "cell_type": "markdown",
   "id": "46015508",
   "metadata": {},
   "source": [
    "# 2. Explore the dataset"
   ]
  },
  {
   "cell_type": "code",
   "execution_count": 4,
   "id": "40a1c122",
   "metadata": {
    "ExecuteTime": {
     "end_time": "2024-03-03T06:32:47.841599Z",
     "start_time": "2024-03-03T06:32:47.795396Z"
    }
   },
   "outputs": [
    {
     "data": {
      "text/plain": [
       "(1000, 23)"
      ]
     },
     "execution_count": 4,
     "metadata": {},
     "output_type": "execute_result"
    }
   ],
   "source": [
    "#checking the dimensions\n",
    "chicago_crime_df.shape"
   ]
  },
  {
   "cell_type": "code",
   "execution_count": 5,
   "id": "821a0eb5",
   "metadata": {
    "ExecuteTime": {
     "end_time": "2024-03-03T06:32:48.138744Z",
     "start_time": "2024-03-03T06:32:47.841599Z"
    }
   },
   "outputs": [
    {
     "data": {
      "text/html": [
       "<div>\n",
       "<style scoped>\n",
       "    .dataframe tbody tr th:only-of-type {\n",
       "        vertical-align: middle;\n",
       "    }\n",
       "\n",
       "    .dataframe tbody tr th {\n",
       "        vertical-align: top;\n",
       "    }\n",
       "\n",
       "    .dataframe thead th {\n",
       "        text-align: right;\n",
       "    }\n",
       "</style>\n",
       "<table border=\"1\" class=\"dataframe\">\n",
       "  <thead>\n",
       "    <tr style=\"text-align: right;\">\n",
       "      <th></th>\n",
       "      <th>Unnamed: 0</th>\n",
       "      <th>ID</th>\n",
       "      <th>Case Number</th>\n",
       "      <th>Date</th>\n",
       "      <th>Block</th>\n",
       "      <th>IUCR</th>\n",
       "      <th>Primary Type</th>\n",
       "      <th>Description</th>\n",
       "      <th>Location Description</th>\n",
       "      <th>Arrest</th>\n",
       "      <th>Domestic</th>\n",
       "      <th>Beat</th>\n",
       "      <th>District</th>\n",
       "      <th>Ward</th>\n",
       "      <th>Community Area</th>\n",
       "      <th>FBI Code</th>\n",
       "      <th>X Coordinate</th>\n",
       "      <th>Y Coordinate</th>\n",
       "      <th>Year</th>\n",
       "      <th>Updated On</th>\n",
       "      <th>Latitude</th>\n",
       "      <th>Longitude</th>\n",
       "      <th>Location</th>\n",
       "    </tr>\n",
       "  </thead>\n",
       "  <tbody>\n",
       "    <tr>\n",
       "      <th>0</th>\n",
       "      <td>0</td>\n",
       "      <td>6407111</td>\n",
       "      <td>HP485721</td>\n",
       "      <td>07/26/2008 02:30:00 PM</td>\n",
       "      <td>085XX S MUSKEGON AVE</td>\n",
       "      <td>1320</td>\n",
       "      <td>CRIMINAL DAMAGE</td>\n",
       "      <td>TO VEHICLE</td>\n",
       "      <td>STREET</td>\n",
       "      <td>False</td>\n",
       "      <td>False</td>\n",
       "      <td>423</td>\n",
       "      <td>4.0</td>\n",
       "      <td>10.0</td>\n",
       "      <td>46.0</td>\n",
       "      <td>14</td>\n",
       "      <td>1196638.0</td>\n",
       "      <td>1848800.0</td>\n",
       "      <td>2008</td>\n",
       "      <td>02/28/2018 03:56:25 PM</td>\n",
       "      <td>41.739980</td>\n",
       "      <td>-87.555120</td>\n",
       "      <td>(41.739979622, -87.555120042)</td>\n",
       "    </tr>\n",
       "    <tr>\n",
       "      <th>1</th>\n",
       "      <td>1</td>\n",
       "      <td>11398199</td>\n",
       "      <td>JB372830</td>\n",
       "      <td>07/31/2018 10:57:00 AM</td>\n",
       "      <td>092XX S ELLIS AVE</td>\n",
       "      <td>143C</td>\n",
       "      <td>WEAPONS VIOLATION</td>\n",
       "      <td>UNLAWFUL POSS AMMUNITION</td>\n",
       "      <td>POOL ROOM</td>\n",
       "      <td>True</td>\n",
       "      <td>False</td>\n",
       "      <td>413</td>\n",
       "      <td>4.0</td>\n",
       "      <td>8.0</td>\n",
       "      <td>47.0</td>\n",
       "      <td>15</td>\n",
       "      <td>1184499.0</td>\n",
       "      <td>1843935.0</td>\n",
       "      <td>2018</td>\n",
       "      <td>08/07/2018 04:02:59 PM</td>\n",
       "      <td>41.726922</td>\n",
       "      <td>-87.599747</td>\n",
       "      <td>(41.726922145, -87.599746995)</td>\n",
       "    </tr>\n",
       "    <tr>\n",
       "      <th>2</th>\n",
       "      <td>2</td>\n",
       "      <td>5488785</td>\n",
       "      <td>HN308568</td>\n",
       "      <td>04/27/2007 10:30:00 AM</td>\n",
       "      <td>062XX N TRIPP AVE</td>\n",
       "      <td>0610</td>\n",
       "      <td>BURGLARY</td>\n",
       "      <td>FORCIBLE ENTRY</td>\n",
       "      <td>RESIDENCE</td>\n",
       "      <td>True</td>\n",
       "      <td>False</td>\n",
       "      <td>1711</td>\n",
       "      <td>17.0</td>\n",
       "      <td>39.0</td>\n",
       "      <td>12.0</td>\n",
       "      <td>05</td>\n",
       "      <td>1146911.0</td>\n",
       "      <td>1941022.0</td>\n",
       "      <td>2007</td>\n",
       "      <td>02/28/2018 03:56:25 PM</td>\n",
       "      <td>41.994138</td>\n",
       "      <td>-87.734959</td>\n",
       "      <td>(41.994137622, -87.734959049)</td>\n",
       "    </tr>\n",
       "    <tr>\n",
       "      <th>3</th>\n",
       "      <td>3</td>\n",
       "      <td>11389116</td>\n",
       "      <td>JB361368</td>\n",
       "      <td>07/23/2018 08:55:00 AM</td>\n",
       "      <td>0000X N KEELER AVE</td>\n",
       "      <td>0560</td>\n",
       "      <td>ASSAULT</td>\n",
       "      <td>SIMPLE</td>\n",
       "      <td>NURSING HOME/RETIREMENT HOME</td>\n",
       "      <td>False</td>\n",
       "      <td>False</td>\n",
       "      <td>1115</td>\n",
       "      <td>11.0</td>\n",
       "      <td>28.0</td>\n",
       "      <td>26.0</td>\n",
       "      <td>08A</td>\n",
       "      <td>1148388.0</td>\n",
       "      <td>1899882.0</td>\n",
       "      <td>2018</td>\n",
       "      <td>07/30/2018 03:52:24 PM</td>\n",
       "      <td>41.881217</td>\n",
       "      <td>-87.730590</td>\n",
       "      <td>(41.881217483, -87.730589961)</td>\n",
       "    </tr>\n",
       "    <tr>\n",
       "      <th>4</th>\n",
       "      <td>4</td>\n",
       "      <td>12420431</td>\n",
       "      <td>JE297624</td>\n",
       "      <td>07/11/2021 06:40:00 AM</td>\n",
       "      <td>016XX W HARRISON ST</td>\n",
       "      <td>051A</td>\n",
       "      <td>ASSAULT</td>\n",
       "      <td>AGGRAVATED - HANDGUN</td>\n",
       "      <td>PARKING LOT / GARAGE (NON RESIDENTIAL)</td>\n",
       "      <td>False</td>\n",
       "      <td>False</td>\n",
       "      <td>1231</td>\n",
       "      <td>12.0</td>\n",
       "      <td>27.0</td>\n",
       "      <td>28.0</td>\n",
       "      <td>04A</td>\n",
       "      <td>1165430.0</td>\n",
       "      <td>1897441.0</td>\n",
       "      <td>2021</td>\n",
       "      <td>07/18/2021 04:56:02 PM</td>\n",
       "      <td>41.874174</td>\n",
       "      <td>-87.668082</td>\n",
       "      <td>(41.874173691, -87.668082118)</td>\n",
       "    </tr>\n",
       "  </tbody>\n",
       "</table>\n",
       "</div>"
      ],
      "text/plain": [
       "   Unnamed: 0        ID Case Number                    Date  \\\n",
       "0           0   6407111    HP485721  07/26/2008 02:30:00 PM   \n",
       "1           1  11398199    JB372830  07/31/2018 10:57:00 AM   \n",
       "2           2   5488785    HN308568  04/27/2007 10:30:00 AM   \n",
       "3           3  11389116    JB361368  07/23/2018 08:55:00 AM   \n",
       "4           4  12420431    JE297624  07/11/2021 06:40:00 AM   \n",
       "\n",
       "                  Block  IUCR       Primary Type               Description  \\\n",
       "0  085XX S MUSKEGON AVE  1320    CRIMINAL DAMAGE                TO VEHICLE   \n",
       "1     092XX S ELLIS AVE  143C  WEAPONS VIOLATION  UNLAWFUL POSS AMMUNITION   \n",
       "2     062XX N TRIPP AVE  0610           BURGLARY            FORCIBLE ENTRY   \n",
       "3    0000X N KEELER AVE  0560            ASSAULT                    SIMPLE   \n",
       "4   016XX W HARRISON ST  051A            ASSAULT      AGGRAVATED - HANDGUN   \n",
       "\n",
       "                     Location Description  Arrest  Domestic  Beat  District  \\\n",
       "0                                  STREET   False     False   423       4.0   \n",
       "1                               POOL ROOM    True     False   413       4.0   \n",
       "2                               RESIDENCE    True     False  1711      17.0   \n",
       "3            NURSING HOME/RETIREMENT HOME   False     False  1115      11.0   \n",
       "4  PARKING LOT / GARAGE (NON RESIDENTIAL)   False     False  1231      12.0   \n",
       "\n",
       "   Ward  Community Area FBI Code  X Coordinate  Y Coordinate  Year  \\\n",
       "0  10.0            46.0       14     1196638.0     1848800.0  2008   \n",
       "1   8.0            47.0       15     1184499.0     1843935.0  2018   \n",
       "2  39.0            12.0       05     1146911.0     1941022.0  2007   \n",
       "3  28.0            26.0      08A     1148388.0     1899882.0  2018   \n",
       "4  27.0            28.0      04A     1165430.0     1897441.0  2021   \n",
       "\n",
       "               Updated On   Latitude  Longitude                       Location  \n",
       "0  02/28/2018 03:56:25 PM  41.739980 -87.555120  (41.739979622, -87.555120042)  \n",
       "1  08/07/2018 04:02:59 PM  41.726922 -87.599747  (41.726922145, -87.599746995)  \n",
       "2  02/28/2018 03:56:25 PM  41.994138 -87.734959  (41.994137622, -87.734959049)  \n",
       "3  07/30/2018 03:52:24 PM  41.881217 -87.730590  (41.881217483, -87.730589961)  \n",
       "4  07/18/2021 04:56:02 PM  41.874174 -87.668082  (41.874173691, -87.668082118)  "
      ]
     },
     "execution_count": 5,
     "metadata": {},
     "output_type": "execute_result"
    }
   ],
   "source": [
    "# Display the first five rows of the dataset\n",
    "chicago_crime_df.head()"
   ]
  },
  {
   "cell_type": "code",
   "execution_count": 6,
   "id": "2b737764",
   "metadata": {
    "ExecuteTime": {
     "end_time": "2024-03-03T06:32:48.269177Z",
     "start_time": "2024-03-03T06:32:48.138744Z"
    }
   },
   "outputs": [
    {
     "name": "stdout",
     "output_type": "stream",
     "text": [
      "<class 'pandas.core.frame.DataFrame'>\n",
      "RangeIndex: 1000 entries, 0 to 999\n",
      "Data columns (total 23 columns):\n",
      " #   Column                Non-Null Count  Dtype  \n",
      "---  ------                --------------  -----  \n",
      " 0   Unnamed: 0            1000 non-null   int64  \n",
      " 1   ID                    1000 non-null   int64  \n",
      " 2   Case Number           1000 non-null   object \n",
      " 3   Date                  1000 non-null   object \n",
      " 4   Block                 1000 non-null   object \n",
      " 5   IUCR                  1000 non-null   object \n",
      " 6   Primary Type          1000 non-null   object \n",
      " 7   Description           1000 non-null   object \n",
      " 8   Location Description  999 non-null    object \n",
      " 9   Arrest                1000 non-null   bool   \n",
      " 10  Domestic              1000 non-null   bool   \n",
      " 11  Beat                  1000 non-null   int64  \n",
      " 12  District              1000 non-null   float64\n",
      " 13  Ward                  919 non-null    float64\n",
      " 14  Community Area        919 non-null    float64\n",
      " 15  FBI Code              1000 non-null   object \n",
      " 16  X Coordinate          992 non-null    float64\n",
      " 17  Y Coordinate          992 non-null    float64\n",
      " 18  Year                  1000 non-null   int64  \n",
      " 19  Updated On            1000 non-null   object \n",
      " 20  Latitude              992 non-null    float64\n",
      " 21  Longitude             992 non-null    float64\n",
      " 22  Location              992 non-null    object \n",
      "dtypes: bool(2), float64(7), int64(4), object(10)\n",
      "memory usage: 166.1+ KB\n"
     ]
    }
   ],
   "source": [
    " # Display column information and data types\n",
    "chicago_crime_df.info()"
   ]
  },
  {
   "cell_type": "code",
   "execution_count": 7,
   "id": "150b2940",
   "metadata": {
    "ExecuteTime": {
     "end_time": "2024-03-03T06:32:48.639365Z",
     "start_time": "2024-03-03T06:32:48.341205Z"
    }
   },
   "outputs": [
    {
     "data": {
      "text/html": [
       "<div>\n",
       "<style scoped>\n",
       "    .dataframe tbody tr th:only-of-type {\n",
       "        vertical-align: middle;\n",
       "    }\n",
       "\n",
       "    .dataframe tbody tr th {\n",
       "        vertical-align: top;\n",
       "    }\n",
       "\n",
       "    .dataframe thead th {\n",
       "        text-align: right;\n",
       "    }\n",
       "</style>\n",
       "<table border=\"1\" class=\"dataframe\">\n",
       "  <thead>\n",
       "    <tr style=\"text-align: right;\">\n",
       "      <th></th>\n",
       "      <th>Unnamed: 0</th>\n",
       "      <th>ID</th>\n",
       "      <th>Beat</th>\n",
       "      <th>District</th>\n",
       "      <th>Ward</th>\n",
       "      <th>Community Area</th>\n",
       "      <th>X Coordinate</th>\n",
       "      <th>Y Coordinate</th>\n",
       "      <th>Year</th>\n",
       "      <th>Latitude</th>\n",
       "      <th>Longitude</th>\n",
       "    </tr>\n",
       "  </thead>\n",
       "  <tbody>\n",
       "    <tr>\n",
       "      <th>count</th>\n",
       "      <td>1000.000000</td>\n",
       "      <td>1.000000e+03</td>\n",
       "      <td>1000.000000</td>\n",
       "      <td>1000.000000</td>\n",
       "      <td>919.000000</td>\n",
       "      <td>919.000000</td>\n",
       "      <td>9.920000e+02</td>\n",
       "      <td>9.920000e+02</td>\n",
       "      <td>1000.000000</td>\n",
       "      <td>992.000000</td>\n",
       "      <td>992.000000</td>\n",
       "    </tr>\n",
       "    <tr>\n",
       "      <th>mean</th>\n",
       "      <td>499.500000</td>\n",
       "      <td>6.914198e+06</td>\n",
       "      <td>1178.557000</td>\n",
       "      <td>11.202000</td>\n",
       "      <td>22.705114</td>\n",
       "      <td>36.949946</td>\n",
       "      <td>1.164215e+06</td>\n",
       "      <td>1.886010e+06</td>\n",
       "      <td>2009.774000</td>\n",
       "      <td>41.842815</td>\n",
       "      <td>-87.672911</td>\n",
       "    </tr>\n",
       "    <tr>\n",
       "      <th>std</th>\n",
       "      <td>288.819436</td>\n",
       "      <td>3.511735e+06</td>\n",
       "      <td>691.469054</td>\n",
       "      <td>6.876226</td>\n",
       "      <td>13.714212</td>\n",
       "      <td>20.878936</td>\n",
       "      <td>1.660808e+04</td>\n",
       "      <td>3.087987e+04</td>\n",
       "      <td>6.203016</td>\n",
       "      <td>0.084946</td>\n",
       "      <td>0.060434</td>\n",
       "    </tr>\n",
       "    <tr>\n",
       "      <th>min</th>\n",
       "      <td>0.000000</td>\n",
       "      <td>2.005400e+04</td>\n",
       "      <td>111.000000</td>\n",
       "      <td>1.000000</td>\n",
       "      <td>1.000000</td>\n",
       "      <td>1.000000</td>\n",
       "      <td>1.100658e+06</td>\n",
       "      <td>1.815355e+06</td>\n",
       "      <td>2001.000000</td>\n",
       "      <td>41.648599</td>\n",
       "      <td>-87.905227</td>\n",
       "    </tr>\n",
       "    <tr>\n",
       "      <th>25%</th>\n",
       "      <td>249.750000</td>\n",
       "      <td>3.698168e+06</td>\n",
       "      <td>614.000000</td>\n",
       "      <td>6.000000</td>\n",
       "      <td>10.000000</td>\n",
       "      <td>23.000000</td>\n",
       "      <td>1.152368e+06</td>\n",
       "      <td>1.859896e+06</td>\n",
       "      <td>2004.000000</td>\n",
       "      <td>41.770739</td>\n",
       "      <td>-87.715795</td>\n",
       "    </tr>\n",
       "    <tr>\n",
       "      <th>50%</th>\n",
       "      <td>499.500000</td>\n",
       "      <td>6.854410e+06</td>\n",
       "      <td>1111.000000</td>\n",
       "      <td>10.000000</td>\n",
       "      <td>22.000000</td>\n",
       "      <td>32.000000</td>\n",
       "      <td>1.165374e+06</td>\n",
       "      <td>1.890540e+06</td>\n",
       "      <td>2009.000000</td>\n",
       "      <td>41.855455</td>\n",
       "      <td>-87.668667</td>\n",
       "    </tr>\n",
       "    <tr>\n",
       "      <th>75%</th>\n",
       "      <td>749.250000</td>\n",
       "      <td>1.020281e+07</td>\n",
       "      <td>1722.250000</td>\n",
       "      <td>17.000000</td>\n",
       "      <td>34.000000</td>\n",
       "      <td>53.000000</td>\n",
       "      <td>1.176446e+06</td>\n",
       "      <td>1.909066e+06</td>\n",
       "      <td>2015.000000</td>\n",
       "      <td>41.906502</td>\n",
       "      <td>-87.628120</td>\n",
       "    </tr>\n",
       "    <tr>\n",
       "      <th>max</th>\n",
       "      <td>999.000000</td>\n",
       "      <td>1.277362e+07</td>\n",
       "      <td>2535.000000</td>\n",
       "      <td>31.000000</td>\n",
       "      <td>50.000000</td>\n",
       "      <td>77.000000</td>\n",
       "      <td>1.204456e+06</td>\n",
       "      <td>1.951493e+06</td>\n",
       "      <td>2022.000000</td>\n",
       "      <td>42.022522</td>\n",
       "      <td>-87.526993</td>\n",
       "    </tr>\n",
       "  </tbody>\n",
       "</table>\n",
       "</div>"
      ],
      "text/plain": [
       "        Unnamed: 0            ID         Beat     District        Ward  \\\n",
       "count  1000.000000  1.000000e+03  1000.000000  1000.000000  919.000000   \n",
       "mean    499.500000  6.914198e+06  1178.557000    11.202000   22.705114   \n",
       "std     288.819436  3.511735e+06   691.469054     6.876226   13.714212   \n",
       "min       0.000000  2.005400e+04   111.000000     1.000000    1.000000   \n",
       "25%     249.750000  3.698168e+06   614.000000     6.000000   10.000000   \n",
       "50%     499.500000  6.854410e+06  1111.000000    10.000000   22.000000   \n",
       "75%     749.250000  1.020281e+07  1722.250000    17.000000   34.000000   \n",
       "max     999.000000  1.277362e+07  2535.000000    31.000000   50.000000   \n",
       "\n",
       "       Community Area  X Coordinate  Y Coordinate         Year    Latitude  \\\n",
       "count      919.000000  9.920000e+02  9.920000e+02  1000.000000  992.000000   \n",
       "mean        36.949946  1.164215e+06  1.886010e+06  2009.774000   41.842815   \n",
       "std         20.878936  1.660808e+04  3.087987e+04     6.203016    0.084946   \n",
       "min          1.000000  1.100658e+06  1.815355e+06  2001.000000   41.648599   \n",
       "25%         23.000000  1.152368e+06  1.859896e+06  2004.000000   41.770739   \n",
       "50%         32.000000  1.165374e+06  1.890540e+06  2009.000000   41.855455   \n",
       "75%         53.000000  1.176446e+06  1.909066e+06  2015.000000   41.906502   \n",
       "max         77.000000  1.204456e+06  1.951493e+06  2022.000000   42.022522   \n",
       "\n",
       "        Longitude  \n",
       "count  992.000000  \n",
       "mean   -87.672911  \n",
       "std      0.060434  \n",
       "min    -87.905227  \n",
       "25%    -87.715795  \n",
       "50%    -87.668667  \n",
       "75%    -87.628120  \n",
       "max    -87.526993  "
      ]
     },
     "execution_count": 7,
     "metadata": {},
     "output_type": "execute_result"
    }
   ],
   "source": [
    "# Display summary statistics of numerical columns\n",
    "chicago_crime_df.describe()"
   ]
  },
  {
   "cell_type": "markdown",
   "id": "6aa418a1",
   "metadata": {},
   "source": [
    "# 3. Data Cleaning"
   ]
  },
  {
   "cell_type": "markdown",
   "id": "b951f8c5",
   "metadata": {},
   "source": [
    "__1. Use a funtion to Drop redundant columns (a redundant colum is one that gives infromation that another column already explains: eg ID and Case number)__"
   ]
  },
  {
   "cell_type": "code",
   "execution_count": 8,
   "id": "38fd4925",
   "metadata": {
    "ExecuteTime": {
     "end_time": "2024-03-03T06:32:48.708555Z",
     "start_time": "2024-03-03T06:32:48.639365Z"
    }
   },
   "outputs": [],
   "source": [
    "# Dropping redundant columns\n",
    "def drop_redundant_columns(df):\n",
    "    redundant_columns = ['Unnamed: 0','ID', 'Location','Updated On','X Coordinate','Y Coordinate','Community Area','IUCR']\n",
    "    df.drop(redundant_columns, axis=1, inplace= True)"
   ]
  },
  {
   "cell_type": "code",
   "execution_count": 9,
   "id": "6a103744",
   "metadata": {
    "ExecuteTime": {
     "end_time": "2024-03-03T06:32:48.836886Z",
     "start_time": "2024-03-03T06:32:48.708555Z"
    }
   },
   "outputs": [],
   "source": [
    "drop_redundant_columns(chicago_crime_df)"
   ]
  },
  {
   "cell_type": "markdown",
   "id": "43744c33",
   "metadata": {},
   "source": [
    "__Reasons for dropping the above columns__\n",
    "- 'Unnamed: 0': Its just an index for individual row\n",
    "- 'ID': Unique identifier for the record which is redundant due to the presence of 'Case Number'\n",
    "- 'Location': This is where the incident occurred in a format that allows for creation of maps and other geographic operation. It's the combination of both latitude and longitude feature of this dataset thus, not required.\n",
    "- 'Updated On': Holds the date and time the record was last updated.Which is not required for our analysis.\n",
    "- 'X Coordinate': The x coordinate is a shifted location from the actual location for partial redaction but falls on the same block. Since we have a longitude/latitude and the block where the crime happened, we can neglect this feature.\n",
    "- 'Y Coordinate': The y coordinate is a shifted location from the actual location for partial redaction but falls on the same block. Since we have a longitude/latitude and the block where the crime happened, we can neglect this feature.\n",
    "- 'Community Area': This indicates the community area where the incident occurred. Which is not neccessary for our analysis.\n",
    "- 'IUCR': This is the Illinois Unifrom Crime Reporting code. This is directly linked to the Primary Type and Description, it provides information about the primary type and description of crime. Since primary type and description features already exist, it becomes a redundant column\n"
   ]
  },
  {
   "cell_type": "code",
   "execution_count": 10,
   "id": "92ecc9dd",
   "metadata": {
    "ExecuteTime": {
     "end_time": "2024-03-03T06:32:49.015646Z",
     "start_time": "2024-03-03T06:32:48.836886Z"
    },
    "scrolled": false
   },
   "outputs": [
    {
     "data": {
      "text/html": [
       "<div>\n",
       "<style scoped>\n",
       "    .dataframe tbody tr th:only-of-type {\n",
       "        vertical-align: middle;\n",
       "    }\n",
       "\n",
       "    .dataframe tbody tr th {\n",
       "        vertical-align: top;\n",
       "    }\n",
       "\n",
       "    .dataframe thead th {\n",
       "        text-align: right;\n",
       "    }\n",
       "</style>\n",
       "<table border=\"1\" class=\"dataframe\">\n",
       "  <thead>\n",
       "    <tr style=\"text-align: right;\">\n",
       "      <th></th>\n",
       "      <th>Case Number</th>\n",
       "      <th>Date</th>\n",
       "      <th>Block</th>\n",
       "      <th>Primary Type</th>\n",
       "      <th>Description</th>\n",
       "      <th>Location Description</th>\n",
       "      <th>Arrest</th>\n",
       "      <th>Domestic</th>\n",
       "      <th>Beat</th>\n",
       "      <th>District</th>\n",
       "      <th>Ward</th>\n",
       "      <th>FBI Code</th>\n",
       "      <th>Year</th>\n",
       "      <th>Latitude</th>\n",
       "      <th>Longitude</th>\n",
       "    </tr>\n",
       "  </thead>\n",
       "  <tbody>\n",
       "    <tr>\n",
       "      <th>0</th>\n",
       "      <td>HP485721</td>\n",
       "      <td>07/26/2008 02:30:00 PM</td>\n",
       "      <td>085XX S MUSKEGON AVE</td>\n",
       "      <td>CRIMINAL DAMAGE</td>\n",
       "      <td>TO VEHICLE</td>\n",
       "      <td>STREET</td>\n",
       "      <td>False</td>\n",
       "      <td>False</td>\n",
       "      <td>423</td>\n",
       "      <td>4.0</td>\n",
       "      <td>10.0</td>\n",
       "      <td>14</td>\n",
       "      <td>2008</td>\n",
       "      <td>41.739980</td>\n",
       "      <td>-87.555120</td>\n",
       "    </tr>\n",
       "    <tr>\n",
       "      <th>1</th>\n",
       "      <td>JB372830</td>\n",
       "      <td>07/31/2018 10:57:00 AM</td>\n",
       "      <td>092XX S ELLIS AVE</td>\n",
       "      <td>WEAPONS VIOLATION</td>\n",
       "      <td>UNLAWFUL POSS AMMUNITION</td>\n",
       "      <td>POOL ROOM</td>\n",
       "      <td>True</td>\n",
       "      <td>False</td>\n",
       "      <td>413</td>\n",
       "      <td>4.0</td>\n",
       "      <td>8.0</td>\n",
       "      <td>15</td>\n",
       "      <td>2018</td>\n",
       "      <td>41.726922</td>\n",
       "      <td>-87.599747</td>\n",
       "    </tr>\n",
       "    <tr>\n",
       "      <th>2</th>\n",
       "      <td>HN308568</td>\n",
       "      <td>04/27/2007 10:30:00 AM</td>\n",
       "      <td>062XX N TRIPP AVE</td>\n",
       "      <td>BURGLARY</td>\n",
       "      <td>FORCIBLE ENTRY</td>\n",
       "      <td>RESIDENCE</td>\n",
       "      <td>True</td>\n",
       "      <td>False</td>\n",
       "      <td>1711</td>\n",
       "      <td>17.0</td>\n",
       "      <td>39.0</td>\n",
       "      <td>05</td>\n",
       "      <td>2007</td>\n",
       "      <td>41.994138</td>\n",
       "      <td>-87.734959</td>\n",
       "    </tr>\n",
       "    <tr>\n",
       "      <th>3</th>\n",
       "      <td>JB361368</td>\n",
       "      <td>07/23/2018 08:55:00 AM</td>\n",
       "      <td>0000X N KEELER AVE</td>\n",
       "      <td>ASSAULT</td>\n",
       "      <td>SIMPLE</td>\n",
       "      <td>NURSING HOME/RETIREMENT HOME</td>\n",
       "      <td>False</td>\n",
       "      <td>False</td>\n",
       "      <td>1115</td>\n",
       "      <td>11.0</td>\n",
       "      <td>28.0</td>\n",
       "      <td>08A</td>\n",
       "      <td>2018</td>\n",
       "      <td>41.881217</td>\n",
       "      <td>-87.730590</td>\n",
       "    </tr>\n",
       "    <tr>\n",
       "      <th>4</th>\n",
       "      <td>JE297624</td>\n",
       "      <td>07/11/2021 06:40:00 AM</td>\n",
       "      <td>016XX W HARRISON ST</td>\n",
       "      <td>ASSAULT</td>\n",
       "      <td>AGGRAVATED - HANDGUN</td>\n",
       "      <td>PARKING LOT / GARAGE (NON RESIDENTIAL)</td>\n",
       "      <td>False</td>\n",
       "      <td>False</td>\n",
       "      <td>1231</td>\n",
       "      <td>12.0</td>\n",
       "      <td>27.0</td>\n",
       "      <td>04A</td>\n",
       "      <td>2021</td>\n",
       "      <td>41.874174</td>\n",
       "      <td>-87.668082</td>\n",
       "    </tr>\n",
       "  </tbody>\n",
       "</table>\n",
       "</div>"
      ],
      "text/plain": [
       "  Case Number                    Date                 Block  \\\n",
       "0    HP485721  07/26/2008 02:30:00 PM  085XX S MUSKEGON AVE   \n",
       "1    JB372830  07/31/2018 10:57:00 AM     092XX S ELLIS AVE   \n",
       "2    HN308568  04/27/2007 10:30:00 AM     062XX N TRIPP AVE   \n",
       "3    JB361368  07/23/2018 08:55:00 AM    0000X N KEELER AVE   \n",
       "4    JE297624  07/11/2021 06:40:00 AM   016XX W HARRISON ST   \n",
       "\n",
       "        Primary Type               Description  \\\n",
       "0    CRIMINAL DAMAGE                TO VEHICLE   \n",
       "1  WEAPONS VIOLATION  UNLAWFUL POSS AMMUNITION   \n",
       "2           BURGLARY            FORCIBLE ENTRY   \n",
       "3            ASSAULT                    SIMPLE   \n",
       "4            ASSAULT      AGGRAVATED - HANDGUN   \n",
       "\n",
       "                     Location Description  Arrest  Domestic  Beat  District  \\\n",
       "0                                  STREET   False     False   423       4.0   \n",
       "1                               POOL ROOM    True     False   413       4.0   \n",
       "2                               RESIDENCE    True     False  1711      17.0   \n",
       "3            NURSING HOME/RETIREMENT HOME   False     False  1115      11.0   \n",
       "4  PARKING LOT / GARAGE (NON RESIDENTIAL)   False     False  1231      12.0   \n",
       "\n",
       "   Ward FBI Code  Year   Latitude  Longitude  \n",
       "0  10.0       14  2008  41.739980 -87.555120  \n",
       "1   8.0       15  2018  41.726922 -87.599747  \n",
       "2  39.0       05  2007  41.994138 -87.734959  \n",
       "3  28.0      08A  2018  41.881217 -87.730590  \n",
       "4  27.0      04A  2021  41.874174 -87.668082  "
      ]
     },
     "execution_count": 10,
     "metadata": {},
     "output_type": "execute_result"
    }
   ],
   "source": [
    "chicago_crime_df.head()"
   ]
  },
  {
   "cell_type": "markdown",
   "id": "05ebe46f",
   "metadata": {},
   "source": [
    "## Handling missing values"
   ]
  },
  {
   "cell_type": "code",
   "execution_count": 11,
   "id": "1ec6eefd",
   "metadata": {
    "ExecuteTime": {
     "end_time": "2024-03-03T06:32:49.178507Z",
     "start_time": "2024-03-03T06:32:49.015646Z"
    },
    "scrolled": true
   },
   "outputs": [
    {
     "name": "stdout",
     "output_type": "stream",
     "text": [
      "<class 'pandas.core.frame.DataFrame'>\n",
      "RangeIndex: 1000 entries, 0 to 999\n",
      "Data columns (total 15 columns):\n",
      " #   Column                Non-Null Count  Dtype  \n",
      "---  ------                --------------  -----  \n",
      " 0   Case Number           1000 non-null   object \n",
      " 1   Date                  1000 non-null   object \n",
      " 2   Block                 1000 non-null   object \n",
      " 3   Primary Type          1000 non-null   object \n",
      " 4   Description           1000 non-null   object \n",
      " 5   Location Description  999 non-null    object \n",
      " 6   Arrest                1000 non-null   bool   \n",
      " 7   Domestic              1000 non-null   bool   \n",
      " 8   Beat                  1000 non-null   int64  \n",
      " 9   District              1000 non-null   float64\n",
      " 10  Ward                  919 non-null    float64\n",
      " 11  FBI Code              1000 non-null   object \n",
      " 12  Year                  1000 non-null   int64  \n",
      " 13  Latitude              992 non-null    float64\n",
      " 14  Longitude             992 non-null    float64\n",
      "dtypes: bool(2), float64(4), int64(2), object(7)\n",
      "memory usage: 103.6+ KB\n"
     ]
    }
   ],
   "source": [
    "chicago_crime_df.info()"
   ]
  },
  {
   "cell_type": "code",
   "execution_count": 12,
   "id": "3033b122",
   "metadata": {
    "ExecuteTime": {
     "end_time": "2024-03-03T06:32:49.404272Z",
     "start_time": "2024-03-03T06:32:49.178507Z"
    }
   },
   "outputs": [
    {
     "data": {
      "text/html": [
       "<div>\n",
       "<style scoped>\n",
       "    .dataframe tbody tr th:only-of-type {\n",
       "        vertical-align: middle;\n",
       "    }\n",
       "\n",
       "    .dataframe tbody tr th {\n",
       "        vertical-align: top;\n",
       "    }\n",
       "\n",
       "    .dataframe thead th {\n",
       "        text-align: right;\n",
       "    }\n",
       "</style>\n",
       "<table border=\"1\" class=\"dataframe\">\n",
       "  <thead>\n",
       "    <tr style=\"text-align: right;\">\n",
       "      <th></th>\n",
       "      <th>Case Number</th>\n",
       "      <th>Date</th>\n",
       "      <th>Block</th>\n",
       "      <th>Primary Type</th>\n",
       "      <th>Description</th>\n",
       "      <th>Location Description</th>\n",
       "      <th>Arrest</th>\n",
       "      <th>Domestic</th>\n",
       "      <th>Beat</th>\n",
       "      <th>District</th>\n",
       "      <th>Ward</th>\n",
       "      <th>FBI Code</th>\n",
       "      <th>Year</th>\n",
       "      <th>Latitude</th>\n",
       "      <th>Longitude</th>\n",
       "    </tr>\n",
       "  </thead>\n",
       "  <tbody>\n",
       "    <tr>\n",
       "      <th>count</th>\n",
       "      <td>1000</td>\n",
       "      <td>1000</td>\n",
       "      <td>1000</td>\n",
       "      <td>1000</td>\n",
       "      <td>1000</td>\n",
       "      <td>999</td>\n",
       "      <td>1000</td>\n",
       "      <td>1000</td>\n",
       "      <td>1000.000000</td>\n",
       "      <td>1000.000000</td>\n",
       "      <td>919.000000</td>\n",
       "      <td>1000</td>\n",
       "      <td>1000.000000</td>\n",
       "      <td>992.000000</td>\n",
       "      <td>992.000000</td>\n",
       "    </tr>\n",
       "    <tr>\n",
       "      <th>unique</th>\n",
       "      <td>1000</td>\n",
       "      <td>999</td>\n",
       "      <td>947</td>\n",
       "      <td>23</td>\n",
       "      <td>126</td>\n",
       "      <td>66</td>\n",
       "      <td>2</td>\n",
       "      <td>2</td>\n",
       "      <td>NaN</td>\n",
       "      <td>NaN</td>\n",
       "      <td>NaN</td>\n",
       "      <td>21</td>\n",
       "      <td>NaN</td>\n",
       "      <td>NaN</td>\n",
       "      <td>NaN</td>\n",
       "    </tr>\n",
       "    <tr>\n",
       "      <th>top</th>\n",
       "      <td>HP485721</td>\n",
       "      <td>04/04/2005 09:00:00 PM</td>\n",
       "      <td>046XX N BROADWAY</td>\n",
       "      <td>BATTERY</td>\n",
       "      <td>SIMPLE</td>\n",
       "      <td>STREET</td>\n",
       "      <td>False</td>\n",
       "      <td>False</td>\n",
       "      <td>NaN</td>\n",
       "      <td>NaN</td>\n",
       "      <td>NaN</td>\n",
       "      <td>06</td>\n",
       "      <td>NaN</td>\n",
       "      <td>NaN</td>\n",
       "      <td>NaN</td>\n",
       "    </tr>\n",
       "    <tr>\n",
       "      <th>freq</th>\n",
       "      <td>1</td>\n",
       "      <td>2</td>\n",
       "      <td>3</td>\n",
       "      <td>196</td>\n",
       "      <td>114</td>\n",
       "      <td>251</td>\n",
       "      <td>717</td>\n",
       "      <td>853</td>\n",
       "      <td>NaN</td>\n",
       "      <td>NaN</td>\n",
       "      <td>NaN</td>\n",
       "      <td>192</td>\n",
       "      <td>NaN</td>\n",
       "      <td>NaN</td>\n",
       "      <td>NaN</td>\n",
       "    </tr>\n",
       "    <tr>\n",
       "      <th>mean</th>\n",
       "      <td>NaN</td>\n",
       "      <td>NaN</td>\n",
       "      <td>NaN</td>\n",
       "      <td>NaN</td>\n",
       "      <td>NaN</td>\n",
       "      <td>NaN</td>\n",
       "      <td>NaN</td>\n",
       "      <td>NaN</td>\n",
       "      <td>1178.557000</td>\n",
       "      <td>11.202000</td>\n",
       "      <td>22.705114</td>\n",
       "      <td>NaN</td>\n",
       "      <td>2009.774000</td>\n",
       "      <td>41.842815</td>\n",
       "      <td>-87.672911</td>\n",
       "    </tr>\n",
       "    <tr>\n",
       "      <th>std</th>\n",
       "      <td>NaN</td>\n",
       "      <td>NaN</td>\n",
       "      <td>NaN</td>\n",
       "      <td>NaN</td>\n",
       "      <td>NaN</td>\n",
       "      <td>NaN</td>\n",
       "      <td>NaN</td>\n",
       "      <td>NaN</td>\n",
       "      <td>691.469054</td>\n",
       "      <td>6.876226</td>\n",
       "      <td>13.714212</td>\n",
       "      <td>NaN</td>\n",
       "      <td>6.203016</td>\n",
       "      <td>0.084946</td>\n",
       "      <td>0.060434</td>\n",
       "    </tr>\n",
       "    <tr>\n",
       "      <th>min</th>\n",
       "      <td>NaN</td>\n",
       "      <td>NaN</td>\n",
       "      <td>NaN</td>\n",
       "      <td>NaN</td>\n",
       "      <td>NaN</td>\n",
       "      <td>NaN</td>\n",
       "      <td>NaN</td>\n",
       "      <td>NaN</td>\n",
       "      <td>111.000000</td>\n",
       "      <td>1.000000</td>\n",
       "      <td>1.000000</td>\n",
       "      <td>NaN</td>\n",
       "      <td>2001.000000</td>\n",
       "      <td>41.648599</td>\n",
       "      <td>-87.905227</td>\n",
       "    </tr>\n",
       "    <tr>\n",
       "      <th>25%</th>\n",
       "      <td>NaN</td>\n",
       "      <td>NaN</td>\n",
       "      <td>NaN</td>\n",
       "      <td>NaN</td>\n",
       "      <td>NaN</td>\n",
       "      <td>NaN</td>\n",
       "      <td>NaN</td>\n",
       "      <td>NaN</td>\n",
       "      <td>614.000000</td>\n",
       "      <td>6.000000</td>\n",
       "      <td>10.000000</td>\n",
       "      <td>NaN</td>\n",
       "      <td>2004.000000</td>\n",
       "      <td>41.770739</td>\n",
       "      <td>-87.715795</td>\n",
       "    </tr>\n",
       "    <tr>\n",
       "      <th>50%</th>\n",
       "      <td>NaN</td>\n",
       "      <td>NaN</td>\n",
       "      <td>NaN</td>\n",
       "      <td>NaN</td>\n",
       "      <td>NaN</td>\n",
       "      <td>NaN</td>\n",
       "      <td>NaN</td>\n",
       "      <td>NaN</td>\n",
       "      <td>1111.000000</td>\n",
       "      <td>10.000000</td>\n",
       "      <td>22.000000</td>\n",
       "      <td>NaN</td>\n",
       "      <td>2009.000000</td>\n",
       "      <td>41.855455</td>\n",
       "      <td>-87.668667</td>\n",
       "    </tr>\n",
       "    <tr>\n",
       "      <th>75%</th>\n",
       "      <td>NaN</td>\n",
       "      <td>NaN</td>\n",
       "      <td>NaN</td>\n",
       "      <td>NaN</td>\n",
       "      <td>NaN</td>\n",
       "      <td>NaN</td>\n",
       "      <td>NaN</td>\n",
       "      <td>NaN</td>\n",
       "      <td>1722.250000</td>\n",
       "      <td>17.000000</td>\n",
       "      <td>34.000000</td>\n",
       "      <td>NaN</td>\n",
       "      <td>2015.000000</td>\n",
       "      <td>41.906502</td>\n",
       "      <td>-87.628120</td>\n",
       "    </tr>\n",
       "    <tr>\n",
       "      <th>max</th>\n",
       "      <td>NaN</td>\n",
       "      <td>NaN</td>\n",
       "      <td>NaN</td>\n",
       "      <td>NaN</td>\n",
       "      <td>NaN</td>\n",
       "      <td>NaN</td>\n",
       "      <td>NaN</td>\n",
       "      <td>NaN</td>\n",
       "      <td>2535.000000</td>\n",
       "      <td>31.000000</td>\n",
       "      <td>50.000000</td>\n",
       "      <td>NaN</td>\n",
       "      <td>2022.000000</td>\n",
       "      <td>42.022522</td>\n",
       "      <td>-87.526993</td>\n",
       "    </tr>\n",
       "  </tbody>\n",
       "</table>\n",
       "</div>"
      ],
      "text/plain": [
       "       Case Number                    Date             Block Primary Type  \\\n",
       "count         1000                    1000              1000         1000   \n",
       "unique        1000                     999               947           23   \n",
       "top       HP485721  04/04/2005 09:00:00 PM  046XX N BROADWAY      BATTERY   \n",
       "freq             1                       2                 3          196   \n",
       "mean           NaN                     NaN               NaN          NaN   \n",
       "std            NaN                     NaN               NaN          NaN   \n",
       "min            NaN                     NaN               NaN          NaN   \n",
       "25%            NaN                     NaN               NaN          NaN   \n",
       "50%            NaN                     NaN               NaN          NaN   \n",
       "75%            NaN                     NaN               NaN          NaN   \n",
       "max            NaN                     NaN               NaN          NaN   \n",
       "\n",
       "       Description Location Description Arrest Domestic         Beat  \\\n",
       "count         1000                  999   1000     1000  1000.000000   \n",
       "unique         126                   66      2        2          NaN   \n",
       "top         SIMPLE               STREET  False    False          NaN   \n",
       "freq           114                  251    717      853          NaN   \n",
       "mean           NaN                  NaN    NaN      NaN  1178.557000   \n",
       "std            NaN                  NaN    NaN      NaN   691.469054   \n",
       "min            NaN                  NaN    NaN      NaN   111.000000   \n",
       "25%            NaN                  NaN    NaN      NaN   614.000000   \n",
       "50%            NaN                  NaN    NaN      NaN  1111.000000   \n",
       "75%            NaN                  NaN    NaN      NaN  1722.250000   \n",
       "max            NaN                  NaN    NaN      NaN  2535.000000   \n",
       "\n",
       "           District        Ward FBI Code         Year    Latitude   Longitude  \n",
       "count   1000.000000  919.000000     1000  1000.000000  992.000000  992.000000  \n",
       "unique          NaN         NaN       21          NaN         NaN         NaN  \n",
       "top             NaN         NaN       06          NaN         NaN         NaN  \n",
       "freq            NaN         NaN      192          NaN         NaN         NaN  \n",
       "mean      11.202000   22.705114      NaN  2009.774000   41.842815  -87.672911  \n",
       "std        6.876226   13.714212      NaN     6.203016    0.084946    0.060434  \n",
       "min        1.000000    1.000000      NaN  2001.000000   41.648599  -87.905227  \n",
       "25%        6.000000   10.000000      NaN  2004.000000   41.770739  -87.715795  \n",
       "50%       10.000000   22.000000      NaN  2009.000000   41.855455  -87.668667  \n",
       "75%       17.000000   34.000000      NaN  2015.000000   41.906502  -87.628120  \n",
       "max       31.000000   50.000000      NaN  2022.000000   42.022522  -87.526993  "
      ]
     },
     "execution_count": 12,
     "metadata": {},
     "output_type": "execute_result"
    }
   ],
   "source": [
    "#statistics for each column\n",
    "chicago_crime_df.describe(include='all')"
   ]
  },
  {
   "cell_type": "code",
   "execution_count": 13,
   "id": "00593837",
   "metadata": {
    "ExecuteTime": {
     "end_time": "2024-03-03T06:32:49.467729Z",
     "start_time": "2024-03-03T06:32:49.404272Z"
    }
   },
   "outputs": [
    {
     "data": {
      "text/plain": [
       "Case Number              0\n",
       "Date                     0\n",
       "Block                    0\n",
       "Primary Type             0\n",
       "Description              0\n",
       "Location Description     1\n",
       "Arrest                   0\n",
       "Domestic                 0\n",
       "Beat                     0\n",
       "District                 0\n",
       "Ward                    81\n",
       "FBI Code                 0\n",
       "Year                     0\n",
       "Latitude                 8\n",
       "Longitude                8\n",
       "dtype: int64"
      ]
     },
     "execution_count": 13,
     "metadata": {},
     "output_type": "execute_result"
    }
   ],
   "source": [
    "# checking missing value count\n",
    "chicago_crime_df.isnull().sum()"
   ]
  },
  {
   "cell_type": "code",
   "execution_count": 14,
   "id": "a291bd23",
   "metadata": {
    "ExecuteTime": {
     "end_time": "2024-03-03T06:32:49.648384Z",
     "start_time": "2024-03-03T06:32:49.467729Z"
    }
   },
   "outputs": [],
   "source": [
    "# # Missing Values\n",
    "\n",
    "# Function to calculate missing values by column\n",
    "def missing_values_table(df):\n",
    "        # Total missing values\n",
    "        mis_val = df.isnull().sum()\n",
    "        \n",
    "        # Percentage of missing values\n",
    "        mis_val_percent = 100 * df.isnull().sum() / len(df)\n",
    "        \n",
    "        # Make a table with the results\n",
    "        mis_val_table = pd.concat([mis_val, mis_val_percent], axis=1)\n",
    "        \n",
    "        # Rename the columns\n",
    "        mis_val_table_ren_columns = mis_val_table.rename(\n",
    "        columns = {0 : 'Missing Values', 1 : '% of Total Values'})\n",
    "        \n",
    "        # Sort the table by percentage of missing descending\n",
    "        mis_val_table_ren_columns = mis_val_table_ren_columns[\n",
    "            mis_val_table_ren_columns.iloc[:,1] != 0].sort_values(\n",
    "        '% of Total Values', ascending=False).round(1)\n",
    "        \n",
    "        # Print some summary information\n",
    "        print (\"Your selected dataframe has \" + str(df.shape[1]) + \" columns.\\n\"      \n",
    "            \"There are \" + str(mis_val_table_ren_columns.shape[0]) +\n",
    "              \" columns that have missing values.\")\n",
    "        \n",
    "        # Return the dataframe with missing information\n",
    "        return mis_val_table_ren_columns"
   ]
  },
  {
   "cell_type": "code",
   "execution_count": 15,
   "id": "b5f9dc16",
   "metadata": {
    "ExecuteTime": {
     "end_time": "2024-03-03T06:32:49.923296Z",
     "start_time": "2024-03-03T06:32:49.648384Z"
    }
   },
   "outputs": [
    {
     "name": "stdout",
     "output_type": "stream",
     "text": [
      "Your selected dataframe has 15 columns.\n",
      "There are 4 columns that have missing values.\n"
     ]
    },
    {
     "data": {
      "text/html": [
       "<div>\n",
       "<style scoped>\n",
       "    .dataframe tbody tr th:only-of-type {\n",
       "        vertical-align: middle;\n",
       "    }\n",
       "\n",
       "    .dataframe tbody tr th {\n",
       "        vertical-align: top;\n",
       "    }\n",
       "\n",
       "    .dataframe thead th {\n",
       "        text-align: right;\n",
       "    }\n",
       "</style>\n",
       "<table border=\"1\" class=\"dataframe\">\n",
       "  <thead>\n",
       "    <tr style=\"text-align: right;\">\n",
       "      <th></th>\n",
       "      <th>Missing Values</th>\n",
       "      <th>% of Total Values</th>\n",
       "    </tr>\n",
       "  </thead>\n",
       "  <tbody>\n",
       "    <tr>\n",
       "      <th>Ward</th>\n",
       "      <td>81</td>\n",
       "      <td>8.1</td>\n",
       "    </tr>\n",
       "    <tr>\n",
       "      <th>Latitude</th>\n",
       "      <td>8</td>\n",
       "      <td>0.8</td>\n",
       "    </tr>\n",
       "    <tr>\n",
       "      <th>Longitude</th>\n",
       "      <td>8</td>\n",
       "      <td>0.8</td>\n",
       "    </tr>\n",
       "    <tr>\n",
       "      <th>Location Description</th>\n",
       "      <td>1</td>\n",
       "      <td>0.1</td>\n",
       "    </tr>\n",
       "  </tbody>\n",
       "</table>\n",
       "</div>"
      ],
      "text/plain": [
       "                      Missing Values  % of Total Values\n",
       "Ward                              81                8.1\n",
       "Latitude                           8                0.8\n",
       "Longitude                          8                0.8\n",
       "Location Description               1                0.1"
      ]
     },
     "execution_count": 15,
     "metadata": {},
     "output_type": "execute_result"
    }
   ],
   "source": [
    "missing_values_table(chicago_crime_df)"
   ]
  },
  {
   "cell_type": "markdown",
   "id": "302c88b3",
   "metadata": {},
   "source": [
    "- __Handling Missing values for the ward Column__"
   ]
  },
  {
   "cell_type": "code",
   "execution_count": 16,
   "id": "6e0157e2",
   "metadata": {
    "ExecuteTime": {
     "end_time": "2024-03-03T06:32:50.088719Z",
     "start_time": "2024-03-03T06:32:49.923296Z"
    }
   },
   "outputs": [],
   "source": [
    "# Using the mode to fill up the most common Ward, then replace it with the current Ward column\n",
    "most_fq_ward = chicago_crime_df.Ward.mode()[0] # indexing the mode to get the value as it returns a series\n",
    "chicago_crime_df.Ward = chicago_crime_df.Ward.fillna(most_fq_ward)"
   ]
  },
  {
   "cell_type": "code",
   "execution_count": 17,
   "id": "5d73551f",
   "metadata": {
    "ExecuteTime": {
     "end_time": "2024-03-03T06:32:50.270155Z",
     "start_time": "2024-03-03T06:32:50.088719Z"
    }
   },
   "outputs": [
    {
     "data": {
      "text/plain": [
       "Case Number             0\n",
       "Date                    0\n",
       "Block                   0\n",
       "Primary Type            0\n",
       "Description             0\n",
       "Location Description    1\n",
       "Arrest                  0\n",
       "Domestic                0\n",
       "Beat                    0\n",
       "District                0\n",
       "Ward                    0\n",
       "FBI Code                0\n",
       "Year                    0\n",
       "Latitude                8\n",
       "Longitude               8\n",
       "dtype: int64"
      ]
     },
     "execution_count": 17,
     "metadata": {},
     "output_type": "execute_result"
    }
   ],
   "source": [
    "chicago_crime_df.isna().sum()"
   ]
  },
  {
   "cell_type": "markdown",
   "id": "1e1084da",
   "metadata": {},
   "source": [
    "- __Handling Missing values for the latitude and Longitude Column__ (Using Assosciation) <br>\n",
    "    - The assumption here is that the latitude and longitude readings are points that show exact location, are closer to eachother within a district. if they are, we can group our data by districts and fill up missing Latitide and longitude values by the median or mode."
   ]
  },
  {
   "cell_type": "code",
   "execution_count": 18,
   "id": "d1cdf865",
   "metadata": {
    "ExecuteTime": {
     "end_time": "2024-03-03T06:32:50.405652Z",
     "start_time": "2024-03-03T06:32:50.270155Z"
    }
   },
   "outputs": [
    {
     "data": {
      "text/plain": [
       "array([ 4., 17., 11., 12.,  2., 15., 25., 14.,  8.,  6., 19.,  1.,  7.,\n",
       "       20., 18.,  3.,  9., 22.,  5., 16., 10., 24., 31.])"
      ]
     },
     "execution_count": 18,
     "metadata": {},
     "output_type": "execute_result"
    }
   ],
   "source": [
    "chicago_crime_df.District.unique()"
   ]
  },
  {
   "cell_type": "code",
   "execution_count": 19,
   "id": "efa13d39",
   "metadata": {
    "ExecuteTime": {
     "end_time": "2024-03-03T06:32:50.552532Z",
     "start_time": "2024-03-03T06:32:50.405652Z"
    }
   },
   "outputs": [
    {
     "data": {
      "text/html": [
       "<div>\n",
       "<style scoped>\n",
       "    .dataframe tbody tr th:only-of-type {\n",
       "        vertical-align: middle;\n",
       "    }\n",
       "\n",
       "    .dataframe tbody tr th {\n",
       "        vertical-align: top;\n",
       "    }\n",
       "\n",
       "    .dataframe thead th {\n",
       "        text-align: right;\n",
       "    }\n",
       "</style>\n",
       "<table border=\"1\" class=\"dataframe\">\n",
       "  <thead>\n",
       "    <tr style=\"text-align: right;\">\n",
       "      <th></th>\n",
       "      <th>Longitude</th>\n",
       "      <th>Latitude</th>\n",
       "    </tr>\n",
       "  </thead>\n",
       "  <tbody>\n",
       "    <tr>\n",
       "      <th>2</th>\n",
       "      <td>-87.734959</td>\n",
       "      <td>41.994138</td>\n",
       "    </tr>\n",
       "    <tr>\n",
       "      <th>39</th>\n",
       "      <td>-87.724435</td>\n",
       "      <td>41.969395</td>\n",
       "    </tr>\n",
       "    <tr>\n",
       "      <th>47</th>\n",
       "      <td>-87.702085</td>\n",
       "      <td>41.946649</td>\n",
       "    </tr>\n",
       "    <tr>\n",
       "      <th>61</th>\n",
       "      <td>-87.711568</td>\n",
       "      <td>41.949382</td>\n",
       "    </tr>\n",
       "    <tr>\n",
       "      <th>78</th>\n",
       "      <td>-87.711739</td>\n",
       "      <td>41.939300</td>\n",
       "    </tr>\n",
       "    <tr>\n",
       "      <th>102</th>\n",
       "      <td>-87.724774</td>\n",
       "      <td>41.940298</td>\n",
       "    </tr>\n",
       "    <tr>\n",
       "      <th>122</th>\n",
       "      <td>-87.712670</td>\n",
       "      <td>41.945238</td>\n",
       "    </tr>\n",
       "    <tr>\n",
       "      <th>139</th>\n",
       "      <td>-87.711475</td>\n",
       "      <td>41.992542</td>\n",
       "    </tr>\n",
       "    <tr>\n",
       "      <th>147</th>\n",
       "      <td>-87.727902</td>\n",
       "      <td>41.963596</td>\n",
       "    </tr>\n",
       "    <tr>\n",
       "      <th>163</th>\n",
       "      <td>-87.726081</td>\n",
       "      <td>41.953669</td>\n",
       "    </tr>\n",
       "    <tr>\n",
       "      <th>206</th>\n",
       "      <td>-87.713160</td>\n",
       "      <td>41.961846</td>\n",
       "    </tr>\n",
       "    <tr>\n",
       "      <th>209</th>\n",
       "      <td>-87.739224</td>\n",
       "      <td>41.967478</td>\n",
       "    </tr>\n",
       "    <tr>\n",
       "      <th>249</th>\n",
       "      <td>-87.719441</td>\n",
       "      <td>41.967119</td>\n",
       "    </tr>\n",
       "    <tr>\n",
       "      <th>250</th>\n",
       "      <td>-87.744957</td>\n",
       "      <td>41.953443</td>\n",
       "    </tr>\n",
       "    <tr>\n",
       "      <th>313</th>\n",
       "      <td>-87.722511</td>\n",
       "      <td>41.966372</td>\n",
       "    </tr>\n",
       "    <tr>\n",
       "      <th>320</th>\n",
       "      <td>-87.742701</td>\n",
       "      <td>41.938992</td>\n",
       "    </tr>\n",
       "    <tr>\n",
       "      <th>371</th>\n",
       "      <td>-87.711163</td>\n",
       "      <td>41.991017</td>\n",
       "    </tr>\n",
       "    <tr>\n",
       "      <th>387</th>\n",
       "      <td>-87.730732</td>\n",
       "      <td>41.955548</td>\n",
       "    </tr>\n",
       "    <tr>\n",
       "      <th>399</th>\n",
       "      <td>-87.708328</td>\n",
       "      <td>41.963779</td>\n",
       "    </tr>\n",
       "    <tr>\n",
       "      <th>465</th>\n",
       "      <td>-87.708594</td>\n",
       "      <td>41.955732</td>\n",
       "    </tr>\n",
       "    <tr>\n",
       "      <th>468</th>\n",
       "      <td>-87.724623</td>\n",
       "      <td>41.939567</td>\n",
       "    </tr>\n",
       "    <tr>\n",
       "      <th>512</th>\n",
       "      <td>-87.708325</td>\n",
       "      <td>41.963711</td>\n",
       "    </tr>\n",
       "    <tr>\n",
       "      <th>590</th>\n",
       "      <td>-87.724478</td>\n",
       "      <td>41.971023</td>\n",
       "    </tr>\n",
       "    <tr>\n",
       "      <th>617</th>\n",
       "      <td>-87.715503</td>\n",
       "      <td>41.958379</td>\n",
       "    </tr>\n",
       "    <tr>\n",
       "      <th>625</th>\n",
       "      <td>-87.707978</td>\n",
       "      <td>41.952578</td>\n",
       "    </tr>\n",
       "    <tr>\n",
       "      <th>664</th>\n",
       "      <td>-87.723661</td>\n",
       "      <td>41.939136</td>\n",
       "    </tr>\n",
       "    <tr>\n",
       "      <th>687</th>\n",
       "      <td>-87.717111</td>\n",
       "      <td>41.971140</td>\n",
       "    </tr>\n",
       "    <tr>\n",
       "      <th>749</th>\n",
       "      <td>-87.723238</td>\n",
       "      <td>41.956491</td>\n",
       "    </tr>\n",
       "    <tr>\n",
       "      <th>751</th>\n",
       "      <td>-87.738829</td>\n",
       "      <td>41.967207</td>\n",
       "    </tr>\n",
       "    <tr>\n",
       "      <th>771</th>\n",
       "      <td>-87.736202</td>\n",
       "      <td>41.965404</td>\n",
       "    </tr>\n",
       "    <tr>\n",
       "      <th>783</th>\n",
       "      <td>-87.711114</td>\n",
       "      <td>41.946588</td>\n",
       "    </tr>\n",
       "    <tr>\n",
       "      <th>784</th>\n",
       "      <td>-87.724470</td>\n",
       "      <td>41.970669</td>\n",
       "    </tr>\n",
       "    <tr>\n",
       "      <th>796</th>\n",
       "      <td>-87.713543</td>\n",
       "      <td>41.940180</td>\n",
       "    </tr>\n",
       "    <tr>\n",
       "      <th>840</th>\n",
       "      <td>-87.743966</td>\n",
       "      <td>41.941317</td>\n",
       "    </tr>\n",
       "    <tr>\n",
       "      <th>847</th>\n",
       "      <td>-87.728272</td>\n",
       "      <td>41.959119</td>\n",
       "    </tr>\n",
       "    <tr>\n",
       "      <th>853</th>\n",
       "      <td>-87.716246</td>\n",
       "      <td>41.941487</td>\n",
       "    </tr>\n",
       "    <tr>\n",
       "      <th>882</th>\n",
       "      <td>-87.704379</td>\n",
       "      <td>41.954861</td>\n",
       "    </tr>\n",
       "    <tr>\n",
       "      <th>937</th>\n",
       "      <td>-87.713139</td>\n",
       "      <td>41.993934</td>\n",
       "    </tr>\n",
       "    <tr>\n",
       "      <th>938</th>\n",
       "      <td>-87.715001</td>\n",
       "      <td>41.983683</td>\n",
       "    </tr>\n",
       "    <tr>\n",
       "      <th>986</th>\n",
       "      <td>-87.714742</td>\n",
       "      <td>41.962936</td>\n",
       "    </tr>\n",
       "  </tbody>\n",
       "</table>\n",
       "</div>"
      ],
      "text/plain": [
       "     Longitude   Latitude\n",
       "2   -87.734959  41.994138\n",
       "39  -87.724435  41.969395\n",
       "47  -87.702085  41.946649\n",
       "61  -87.711568  41.949382\n",
       "78  -87.711739  41.939300\n",
       "102 -87.724774  41.940298\n",
       "122 -87.712670  41.945238\n",
       "139 -87.711475  41.992542\n",
       "147 -87.727902  41.963596\n",
       "163 -87.726081  41.953669\n",
       "206 -87.713160  41.961846\n",
       "209 -87.739224  41.967478\n",
       "249 -87.719441  41.967119\n",
       "250 -87.744957  41.953443\n",
       "313 -87.722511  41.966372\n",
       "320 -87.742701  41.938992\n",
       "371 -87.711163  41.991017\n",
       "387 -87.730732  41.955548\n",
       "399 -87.708328  41.963779\n",
       "465 -87.708594  41.955732\n",
       "468 -87.724623  41.939567\n",
       "512 -87.708325  41.963711\n",
       "590 -87.724478  41.971023\n",
       "617 -87.715503  41.958379\n",
       "625 -87.707978  41.952578\n",
       "664 -87.723661  41.939136\n",
       "687 -87.717111  41.971140\n",
       "749 -87.723238  41.956491\n",
       "751 -87.738829  41.967207\n",
       "771 -87.736202  41.965404\n",
       "783 -87.711114  41.946588\n",
       "784 -87.724470  41.970669\n",
       "796 -87.713543  41.940180\n",
       "840 -87.743966  41.941317\n",
       "847 -87.728272  41.959119\n",
       "853 -87.716246  41.941487\n",
       "882 -87.704379  41.954861\n",
       "937 -87.713139  41.993934\n",
       "938 -87.715001  41.983683\n",
       "986 -87.714742  41.962936"
      ]
     },
     "execution_count": 19,
     "metadata": {},
     "output_type": "execute_result"
    }
   ],
   "source": [
    "chicago_crime_df.groupby('District').get_group(17)[['Longitude', 'Latitude']]"
   ]
  },
  {
   "cell_type": "markdown",
   "id": "11138dc3",
   "metadata": {},
   "source": [
    "There appears to be closeness in Latitude points when data is grouped based on districts, we can group based on district and fill up with median or mode."
   ]
  },
  {
   "cell_type": "code",
   "execution_count": 20,
   "id": "af6a82c7",
   "metadata": {
    "ExecuteTime": {
     "end_time": "2024-03-03T06:32:50.747578Z",
     "start_time": "2024-03-03T06:32:50.552532Z"
    }
   },
   "outputs": [],
   "source": [
    "chicago_crime_df['Latitude'] = chicago_crime_df.groupby('District')['Latitude'].transform(lambda x: x.fillna(x.median()))\n",
    "chicago_crime_df['Longitude'] = chicago_crime_df.groupby('District')['Longitude'].transform(lambda x: x.fillna(x.median()))"
   ]
  },
  {
   "cell_type": "code",
   "execution_count": 21,
   "id": "90f0c0e7",
   "metadata": {
    "ExecuteTime": {
     "end_time": "2024-03-03T06:32:50.983587Z",
     "start_time": "2024-03-03T06:32:50.747578Z"
    }
   },
   "outputs": [
    {
     "data": {
      "text/plain": [
       "Case Number             0\n",
       "Date                    0\n",
       "Block                   0\n",
       "Primary Type            0\n",
       "Description             0\n",
       "Location Description    1\n",
       "Arrest                  0\n",
       "Domestic                0\n",
       "Beat                    0\n",
       "District                0\n",
       "Ward                    0\n",
       "FBI Code                0\n",
       "Year                    0\n",
       "Latitude                0\n",
       "Longitude               0\n",
       "dtype: int64"
      ]
     },
     "execution_count": 21,
     "metadata": {},
     "output_type": "execute_result"
    }
   ],
   "source": [
    "chicago_crime_df.isna().sum()"
   ]
  },
  {
   "cell_type": "code",
   "execution_count": 22,
   "id": "4891b4f5",
   "metadata": {
    "ExecuteTime": {
     "end_time": "2024-03-03T06:32:51.112982Z",
     "start_time": "2024-03-03T06:32:50.983587Z"
    }
   },
   "outputs": [
    {
     "data": {
      "text/html": [
       "<div>\n",
       "<style scoped>\n",
       "    .dataframe tbody tr th:only-of-type {\n",
       "        vertical-align: middle;\n",
       "    }\n",
       "\n",
       "    .dataframe tbody tr th {\n",
       "        vertical-align: top;\n",
       "    }\n",
       "\n",
       "    .dataframe thead th {\n",
       "        text-align: right;\n",
       "    }\n",
       "</style>\n",
       "<table border=\"1\" class=\"dataframe\">\n",
       "  <thead>\n",
       "    <tr style=\"text-align: right;\">\n",
       "      <th></th>\n",
       "      <th>Case Number</th>\n",
       "      <th>Date</th>\n",
       "      <th>Block</th>\n",
       "      <th>Primary Type</th>\n",
       "      <th>Description</th>\n",
       "      <th>Location Description</th>\n",
       "      <th>Arrest</th>\n",
       "      <th>Domestic</th>\n",
       "      <th>Beat</th>\n",
       "      <th>District</th>\n",
       "      <th>Ward</th>\n",
       "      <th>FBI Code</th>\n",
       "      <th>Year</th>\n",
       "      <th>Latitude</th>\n",
       "      <th>Longitude</th>\n",
       "    </tr>\n",
       "  </thead>\n",
       "  <tbody>\n",
       "    <tr>\n",
       "      <th>0</th>\n",
       "      <td>HP485721</td>\n",
       "      <td>07/26/2008 02:30:00 PM</td>\n",
       "      <td>085XX S MUSKEGON AVE</td>\n",
       "      <td>CRIMINAL DAMAGE</td>\n",
       "      <td>TO VEHICLE</td>\n",
       "      <td>STREET</td>\n",
       "      <td>False</td>\n",
       "      <td>False</td>\n",
       "      <td>423</td>\n",
       "      <td>4.0</td>\n",
       "      <td>10.0</td>\n",
       "      <td>14</td>\n",
       "      <td>2008</td>\n",
       "      <td>41.739980</td>\n",
       "      <td>-87.555120</td>\n",
       "    </tr>\n",
       "    <tr>\n",
       "      <th>1</th>\n",
       "      <td>JB372830</td>\n",
       "      <td>07/31/2018 10:57:00 AM</td>\n",
       "      <td>092XX S ELLIS AVE</td>\n",
       "      <td>WEAPONS VIOLATION</td>\n",
       "      <td>UNLAWFUL POSS AMMUNITION</td>\n",
       "      <td>POOL ROOM</td>\n",
       "      <td>True</td>\n",
       "      <td>False</td>\n",
       "      <td>413</td>\n",
       "      <td>4.0</td>\n",
       "      <td>8.0</td>\n",
       "      <td>15</td>\n",
       "      <td>2018</td>\n",
       "      <td>41.726922</td>\n",
       "      <td>-87.599747</td>\n",
       "    </tr>\n",
       "    <tr>\n",
       "      <th>2</th>\n",
       "      <td>HN308568</td>\n",
       "      <td>04/27/2007 10:30:00 AM</td>\n",
       "      <td>062XX N TRIPP AVE</td>\n",
       "      <td>BURGLARY</td>\n",
       "      <td>FORCIBLE ENTRY</td>\n",
       "      <td>RESIDENCE</td>\n",
       "      <td>True</td>\n",
       "      <td>False</td>\n",
       "      <td>1711</td>\n",
       "      <td>17.0</td>\n",
       "      <td>39.0</td>\n",
       "      <td>05</td>\n",
       "      <td>2007</td>\n",
       "      <td>41.994138</td>\n",
       "      <td>-87.734959</td>\n",
       "    </tr>\n",
       "    <tr>\n",
       "      <th>3</th>\n",
       "      <td>JB361368</td>\n",
       "      <td>07/23/2018 08:55:00 AM</td>\n",
       "      <td>0000X N KEELER AVE</td>\n",
       "      <td>ASSAULT</td>\n",
       "      <td>SIMPLE</td>\n",
       "      <td>NURSING HOME/RETIREMENT HOME</td>\n",
       "      <td>False</td>\n",
       "      <td>False</td>\n",
       "      <td>1115</td>\n",
       "      <td>11.0</td>\n",
       "      <td>28.0</td>\n",
       "      <td>08A</td>\n",
       "      <td>2018</td>\n",
       "      <td>41.881217</td>\n",
       "      <td>-87.730590</td>\n",
       "    </tr>\n",
       "    <tr>\n",
       "      <th>4</th>\n",
       "      <td>JE297624</td>\n",
       "      <td>07/11/2021 06:40:00 AM</td>\n",
       "      <td>016XX W HARRISON ST</td>\n",
       "      <td>ASSAULT</td>\n",
       "      <td>AGGRAVATED - HANDGUN</td>\n",
       "      <td>PARKING LOT / GARAGE (NON RESIDENTIAL)</td>\n",
       "      <td>False</td>\n",
       "      <td>False</td>\n",
       "      <td>1231</td>\n",
       "      <td>12.0</td>\n",
       "      <td>27.0</td>\n",
       "      <td>04A</td>\n",
       "      <td>2021</td>\n",
       "      <td>41.874174</td>\n",
       "      <td>-87.668082</td>\n",
       "    </tr>\n",
       "  </tbody>\n",
       "</table>\n",
       "</div>"
      ],
      "text/plain": [
       "  Case Number                    Date                 Block  \\\n",
       "0    HP485721  07/26/2008 02:30:00 PM  085XX S MUSKEGON AVE   \n",
       "1    JB372830  07/31/2018 10:57:00 AM     092XX S ELLIS AVE   \n",
       "2    HN308568  04/27/2007 10:30:00 AM     062XX N TRIPP AVE   \n",
       "3    JB361368  07/23/2018 08:55:00 AM    0000X N KEELER AVE   \n",
       "4    JE297624  07/11/2021 06:40:00 AM   016XX W HARRISON ST   \n",
       "\n",
       "        Primary Type               Description  \\\n",
       "0    CRIMINAL DAMAGE                TO VEHICLE   \n",
       "1  WEAPONS VIOLATION  UNLAWFUL POSS AMMUNITION   \n",
       "2           BURGLARY            FORCIBLE ENTRY   \n",
       "3            ASSAULT                    SIMPLE   \n",
       "4            ASSAULT      AGGRAVATED - HANDGUN   \n",
       "\n",
       "                     Location Description  Arrest  Domestic  Beat  District  \\\n",
       "0                                  STREET   False     False   423       4.0   \n",
       "1                               POOL ROOM    True     False   413       4.0   \n",
       "2                               RESIDENCE    True     False  1711      17.0   \n",
       "3            NURSING HOME/RETIREMENT HOME   False     False  1115      11.0   \n",
       "4  PARKING LOT / GARAGE (NON RESIDENTIAL)   False     False  1231      12.0   \n",
       "\n",
       "   Ward FBI Code  Year   Latitude  Longitude  \n",
       "0  10.0       14  2008  41.739980 -87.555120  \n",
       "1   8.0       15  2018  41.726922 -87.599747  \n",
       "2  39.0       05  2007  41.994138 -87.734959  \n",
       "3  28.0      08A  2018  41.881217 -87.730590  \n",
       "4  27.0      04A  2021  41.874174 -87.668082  "
      ]
     },
     "execution_count": 22,
     "metadata": {},
     "output_type": "execute_result"
    }
   ],
   "source": [
    "chicago_crime_df.head()"
   ]
  },
  {
   "cell_type": "markdown",
   "id": "2e594257",
   "metadata": {},
   "source": [
    "- __Handling Missing values for the Location Description__"
   ]
  },
  {
   "cell_type": "markdown",
   "id": "298697b6",
   "metadata": {},
   "source": [
    "We have just one missing value for the location description. We can decide to drop the row where location decription is missing or fill this row with the appropriate crime location based on the longitude and latitude."
   ]
  },
  {
   "cell_type": "code",
   "execution_count": 30,
   "id": "6dd37bf0",
   "metadata": {
    "ExecuteTime": {
     "end_time": "2024-03-03T06:51:16.080531Z",
     "start_time": "2024-03-03T06:51:16.055657Z"
    },
    "scrolled": true
   },
   "outputs": [
    {
     "data": {
      "text/html": [
       "<div>\n",
       "<style scoped>\n",
       "    .dataframe tbody tr th:only-of-type {\n",
       "        vertical-align: middle;\n",
       "    }\n",
       "\n",
       "    .dataframe tbody tr th {\n",
       "        vertical-align: top;\n",
       "    }\n",
       "\n",
       "    .dataframe thead th {\n",
       "        text-align: right;\n",
       "    }\n",
       "</style>\n",
       "<table border=\"1\" class=\"dataframe\">\n",
       "  <thead>\n",
       "    <tr style=\"text-align: right;\">\n",
       "      <th></th>\n",
       "      <th>Case Number</th>\n",
       "      <th>Date</th>\n",
       "      <th>Block</th>\n",
       "      <th>Primary Type</th>\n",
       "      <th>Description</th>\n",
       "      <th>Location Description</th>\n",
       "      <th>Arrest</th>\n",
       "      <th>Domestic</th>\n",
       "      <th>Beat</th>\n",
       "      <th>District</th>\n",
       "      <th>Ward</th>\n",
       "      <th>FBI Code</th>\n",
       "      <th>Year</th>\n",
       "      <th>Latitude</th>\n",
       "      <th>Longitude</th>\n",
       "    </tr>\n",
       "  </thead>\n",
       "  <tbody>\n",
       "    <tr>\n",
       "      <th>683</th>\n",
       "      <td>JC532816</td>\n",
       "      <td>11/14/2017 08:50:00 AM</td>\n",
       "      <td>004XX W FULLERTON PKWY</td>\n",
       "      <td>DECEPTIVE PRACTICE</td>\n",
       "      <td>FINANCIAL IDENTITY THEFT OVER $ 300</td>\n",
       "      <td>NaN</td>\n",
       "      <td>False</td>\n",
       "      <td>False</td>\n",
       "      <td>1812</td>\n",
       "      <td>18.0</td>\n",
       "      <td>43.0</td>\n",
       "      <td>11</td>\n",
       "      <td>2017</td>\n",
       "      <td>41.902213</td>\n",
       "      <td>-87.632919</td>\n",
       "    </tr>\n",
       "  </tbody>\n",
       "</table>\n",
       "</div>"
      ],
      "text/plain": [
       "    Case Number                    Date                   Block  \\\n",
       "683    JC532816  11/14/2017 08:50:00 AM  004XX W FULLERTON PKWY   \n",
       "\n",
       "           Primary Type                          Description  \\\n",
       "683  DECEPTIVE PRACTICE  FINANCIAL IDENTITY THEFT OVER $ 300   \n",
       "\n",
       "    Location Description  Arrest  Domestic  Beat  District  Ward FBI Code  \\\n",
       "683                  NaN   False     False  1812      18.0  43.0       11   \n",
       "\n",
       "     Year   Latitude  Longitude  \n",
       "683  2017  41.902213 -87.632919  "
      ]
     },
     "execution_count": 30,
     "metadata": {},
     "output_type": "execute_result"
    }
   ],
   "source": [
    "#determining the row index for the missing location description \n",
    "chicago_crime_df[chicago_crime_df['Location Description'].isnull()]"
   ]
  },
  {
   "cell_type": "code",
   "execution_count": 32,
   "id": "389b8bf8",
   "metadata": {
    "ExecuteTime": {
     "end_time": "2024-03-03T06:53:58.936347Z",
     "start_time": "2024-03-03T06:53:58.914703Z"
    }
   },
   "outputs": [],
   "source": [
    "# dropping the missing location index row\n",
    "chicago_crime_df.drop(index=683,inplace=True)"
   ]
  },
  {
   "cell_type": "code",
   "execution_count": 33,
   "id": "3929366a",
   "metadata": {
    "ExecuteTime": {
     "end_time": "2024-03-03T06:54:17.031809Z",
     "start_time": "2024-03-03T06:54:17.014089Z"
    },
    "scrolled": true
   },
   "outputs": [
    {
     "data": {
      "text/plain": [
       "Case Number             0\n",
       "Date                    0\n",
       "Block                   0\n",
       "Primary Type            0\n",
       "Description             0\n",
       "Location Description    0\n",
       "Arrest                  0\n",
       "Domestic                0\n",
       "Beat                    0\n",
       "District                0\n",
       "Ward                    0\n",
       "FBI Code                0\n",
       "Year                    0\n",
       "Latitude                0\n",
       "Longitude               0\n",
       "dtype: int64"
      ]
     },
     "execution_count": 33,
     "metadata": {},
     "output_type": "execute_result"
    }
   ],
   "source": [
    "chicago_crime_df.isna().sum()"
   ]
  },
  {
   "cell_type": "code",
   "execution_count": null,
   "id": "55fd2665",
   "metadata": {},
   "outputs": [],
   "source": []
  },
  {
   "cell_type": "markdown",
   "id": "3bd61a94",
   "metadata": {},
   "source": [
    "# 4. Visualize Data Distribution"
   ]
  },
  {
   "cell_type": "code",
   "execution_count": 34,
   "id": "566b36e6",
   "metadata": {
    "ExecuteTime": {
     "end_time": "2024-03-03T06:58:51.279355Z",
     "start_time": "2024-03-03T06:58:34.552101Z"
    }
   },
   "outputs": [],
   "source": [
    "import matplotlib.pyplot as plt\n",
    "import seaborn as sns\n",
    "%matplotlib inline"
   ]
  },
  {
   "cell_type": "code",
   "execution_count": 35,
   "id": "32104a09",
   "metadata": {
    "ExecuteTime": {
     "end_time": "2024-03-03T06:59:01.582450Z",
     "start_time": "2024-03-03T06:58:58.975057Z"
    }
   },
   "outputs": [
    {
     "data": {
      "text/plain": [
       "Text(0.5, 1.0, 'Distribution of Crime Types')"
      ]
     },
     "execution_count": 35,
     "metadata": {},
     "output_type": "execute_result"
    },
    {
     "data": {
      "image/png": "[encoded data removed]",
      "text/plain": [
       "<Figure size 1200x600 with 1 Axes>"
      ]
     },
     "metadata": {},
     "output_type": "display_data"
    }
   ],
   "source": [
    "# Visualize the distribution of crime types\n",
    "plt.figure(figsize=(12, 6))\n",
    "sns.countplot(data=chicago_crime_df, x='Primary Type')\n",
    "plt.xticks(rotation=90)\n",
    "plt.title('Distribution of Crime Types')"
   ]
  },
  {
   "cell_type": "code",
   "execution_count": null,
   "id": "fab27bdf",
   "metadata": {},
   "outputs": [],
   "source": []
  },
  {
   "cell_type": "markdown",
   "id": "c5aeb800",
   "metadata": {},
   "source": [
    "# 5. Identify Outliers"
   ]
  },
  {
   "cell_type": "code",
   "execution_count": null,
   "id": "2e4163be",
   "metadata": {},
   "outputs": [],
   "source": []
  },
  {
   "cell_type": "markdown",
   "id": "37f590ac",
   "metadata": {},
   "source": [
    "# 6. Investigate Relationships"
   ]
  },
  {
   "cell_type": "code",
   "execution_count": null,
   "id": "6a8f2a26",
   "metadata": {},
   "outputs": [],
   "source": []
  },
  {
   "cell_type": "markdown",
   "id": "5d889458",
   "metadata": {},
   "source": [
    "# 7. Investigate Crime Types"
   ]
  },
  {
   "cell_type": "code",
   "execution_count": null,
   "id": "cb9bad1b",
   "metadata": {},
   "outputs": [],
   "source": []
  },
  {
   "cell_type": "markdown",
   "id": "21967a8e",
   "metadata": {},
   "source": [
    "# 8. Examine Crime Locations"
   ]
  },
  {
   "cell_type": "code",
   "execution_count": null,
   "id": "3567de5d",
   "metadata": {},
   "outputs": [],
   "source": []
  },
  {
   "cell_type": "markdown",
   "id": "5a5c3518",
   "metadata": {},
   "source": [
    "# 9. Identify Hotspots"
   ]
  },
  {
   "cell_type": "code",
   "execution_count": null,
   "id": "e64b8d72",
   "metadata": {},
   "outputs": [],
   "source": []
  },
  {
   "cell_type": "markdown",
   "id": "681b6774",
   "metadata": {},
   "source": [
    "# 10. Detect Seasonal Patterns"
   ]
  },
  {
   "cell_type": "code",
   "execution_count": null,
   "id": "51b15339",
   "metadata": {},
   "outputs": [],
   "source": []
  },
  {
   "cell_type": "markdown",
   "id": "4dde1d59",
   "metadata": {},
   "source": [
    "# 11. Compare Crime Rates"
   ]
  },
  {
   "cell_type": "code",
   "execution_count": null,
   "id": "c3a8d034",
   "metadata": {},
   "outputs": [],
   "source": []
  },
  {
   "cell_type": "markdown",
   "id": "7dc09827",
   "metadata": {},
   "source": [
    "# 12. Summarize and Visualize Insights"
   ]
  },
  {
   "cell_type": "code",
   "execution_count": null,
   "id": "06a9bffe",
   "metadata": {},
   "outputs": [],
   "source": []
  }
 ],
 "metadata": {
  "kernelspec": {
   "display_name": "Python 3 (ipykernel)",
   "language": "python",
   "name": "python3"
  },
  "language_info": {
   "codemirror_mode": {
    "name": "ipython",
    "version": 3
   },
   "file_extension": ".py",
   "mimetype": "text/x-python",
   "name": "python",
   "nbconvert_exporter": "python",
   "pygments_lexer": "ipython3",
   "version": "3.11.5"
  },
  "toc": {
   "base_numbering": 1,
   "nav_menu": {},
   "number_sections": true,
   "sideBar": true,
   "skip_h1_title": false,
   "title_cell": "Table of Contents",
   "title_sidebar": "Contents",
   "toc_cell": false,
   "toc_position": {},
   "toc_section_display": true,
   "toc_window_display": false
  },
  "varInspector": {
   "cols": {
    "lenName": 16,
    "lenType": 16,
    "lenVar": 40
   },
   "kernels_config": {
    "python": {
     "delete_cmd_postfix": "",
     "delete_cmd_prefix": "del ",
     "library": "var_list.py",
     "varRefreshCmd": "print(var_dic_list())"
    },
    "r": {
     "delete_cmd_postfix": ") ",
     "delete_cmd_prefix": "rm(",
     "library": "var_list.r",
     "varRefreshCmd": "cat(var_dic_list()) "
    }
   },
   "types_to_exclude": [
    "module",
    "function",
    "builtin_function_or_method",
    "instance",
    "_Feature"
   ],
   "window_display": false
  }
 },
 "nbformat": 4,
 "nbformat_minor": 5
}
